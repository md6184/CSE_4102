{
  "cells": [
    {
      "cell_type": "markdown",
      "metadata": {
        "id": "view-in-github",
        "colab_type": "text"
      },
      "source": [
        "<a href=\"https://colab.research.google.com/github/md6184/CSE_4102/blob/main/student_examination_lsm_84_68.ipynb\" target=\"_parent\"><img src=\"https://colab.research.google.com/assets/colab-badge.svg\" alt=\"Open In Colab\"/></a>"
      ]
    },
    {
      "cell_type": "code",
      "execution_count": 1,
      "id": "44eb3d06",
      "metadata": {
        "_cell_guid": "b1076dfc-b9ad-4769-8c92-a6c4dae69d19",
        "_uuid": "8f2839f25d086af736a60e9eeb907d3b93b6e0e5",
        "execution": {
          "iopub.execute_input": "2025-10-05T08:06:52.814655Z",
          "iopub.status.busy": "2025-10-05T08:06:52.814334Z",
          "iopub.status.idle": "2025-10-05T08:06:56.359715Z",
          "shell.execute_reply": "2025-10-05T08:06:56.358452Z"
        },
        "papermill": {
          "duration": 3.552585,
          "end_time": "2025-10-05T08:06:56.361290",
          "exception": false,
          "start_time": "2025-10-05T08:06:52.808705",
          "status": "completed"
        },
        "tags": [],
        "id": "44eb3d06"
      },
      "outputs": [],
      "source": [
        "import numpy as np\n",
        "import pandas as pd\n",
        "import seaborn as sns\n",
        "import matplotlib.pyplot as plt\n",
        "import warnings\n",
        "warnings.filterwarnings('ignore')\n",
        "\n",
        "import os\n",
        "for dirname, _, filenames in os.walk('/kaggle/input'):\n",
        "    for filename in filenames:\n",
        "        print(os.path.join(dirname, filename))"
      ]
    },
    {
      "cell_type": "code",
      "execution_count": 2,
      "id": "4484c01f",
      "metadata": {
        "execution": {
          "iopub.execute_input": "2025-10-05T08:06:56.371572Z",
          "iopub.status.busy": "2025-10-05T08:06:56.370443Z",
          "iopub.status.idle": "2025-10-05T08:06:56.409576Z",
          "shell.execute_reply": "2025-10-05T08:06:56.408691Z"
        },
        "papermill": {
          "duration": 0.045597,
          "end_time": "2025-10-05T08:06:56.411128",
          "exception": false,
          "start_time": "2025-10-05T08:06:56.365531",
          "status": "completed"
        },
        "tags": [],
        "colab": {
          "base_uri": "https://localhost:8080/",
          "height": 206
        },
        "id": "4484c01f",
        "outputId": "a3dc268c-2a03-4aab-9003-425ce0282078"
      },
      "outputs": [
        {
          "output_type": "execute_result",
          "data": {
            "text/plain": [
              "  student_id  hours_studied  sleep_hours  attendance_percent  previous_scores  \\\n",
              "0       S001            8.0          8.8                72.1               45   \n",
              "1       S002            1.3          8.6                60.7               55   \n",
              "2       S003            4.0          8.2                73.7               86   \n",
              "3       S004            3.5          4.8                95.1               66   \n",
              "4       S005            9.1          6.4                89.8               71   \n",
              "\n",
              "   exam_score  \n",
              "0        30.2  \n",
              "1        25.0  \n",
              "2        35.8  \n",
              "3        34.0  \n",
              "4        40.3  "
            ],
            "text/html": [
              "\n",
              "  <div id=\"df-2f5c8be3-b78b-4631-ad37-e57772118f27\" class=\"colab-df-container\">\n",
              "    <div>\n",
              "<style scoped>\n",
              "    .dataframe tbody tr th:only-of-type {\n",
              "        vertical-align: middle;\n",
              "    }\n",
              "\n",
              "    .dataframe tbody tr th {\n",
              "        vertical-align: top;\n",
              "    }\n",
              "\n",
              "    .dataframe thead th {\n",
              "        text-align: right;\n",
              "    }\n",
              "</style>\n",
              "<table border=\"1\" class=\"dataframe\">\n",
              "  <thead>\n",
              "    <tr style=\"text-align: right;\">\n",
              "      <th></th>\n",
              "      <th>student_id</th>\n",
              "      <th>hours_studied</th>\n",
              "      <th>sleep_hours</th>\n",
              "      <th>attendance_percent</th>\n",
              "      <th>previous_scores</th>\n",
              "      <th>exam_score</th>\n",
              "    </tr>\n",
              "  </thead>\n",
              "  <tbody>\n",
              "    <tr>\n",
              "      <th>0</th>\n",
              "      <td>S001</td>\n",
              "      <td>8.0</td>\n",
              "      <td>8.8</td>\n",
              "      <td>72.1</td>\n",
              "      <td>45</td>\n",
              "      <td>30.2</td>\n",
              "    </tr>\n",
              "    <tr>\n",
              "      <th>1</th>\n",
              "      <td>S002</td>\n",
              "      <td>1.3</td>\n",
              "      <td>8.6</td>\n",
              "      <td>60.7</td>\n",
              "      <td>55</td>\n",
              "      <td>25.0</td>\n",
              "    </tr>\n",
              "    <tr>\n",
              "      <th>2</th>\n",
              "      <td>S003</td>\n",
              "      <td>4.0</td>\n",
              "      <td>8.2</td>\n",
              "      <td>73.7</td>\n",
              "      <td>86</td>\n",
              "      <td>35.8</td>\n",
              "    </tr>\n",
              "    <tr>\n",
              "      <th>3</th>\n",
              "      <td>S004</td>\n",
              "      <td>3.5</td>\n",
              "      <td>4.8</td>\n",
              "      <td>95.1</td>\n",
              "      <td>66</td>\n",
              "      <td>34.0</td>\n",
              "    </tr>\n",
              "    <tr>\n",
              "      <th>4</th>\n",
              "      <td>S005</td>\n",
              "      <td>9.1</td>\n",
              "      <td>6.4</td>\n",
              "      <td>89.8</td>\n",
              "      <td>71</td>\n",
              "      <td>40.3</td>\n",
              "    </tr>\n",
              "  </tbody>\n",
              "</table>\n",
              "</div>\n",
              "    <div class=\"colab-df-buttons\">\n",
              "\n",
              "  <div class=\"colab-df-container\">\n",
              "    <button class=\"colab-df-convert\" onclick=\"convertToInteractive('df-2f5c8be3-b78b-4631-ad37-e57772118f27')\"\n",
              "            title=\"Convert this dataframe to an interactive table.\"\n",
              "            style=\"display:none;\">\n",
              "\n",
              "  <svg xmlns=\"http://www.w3.org/2000/svg\" height=\"24px\" viewBox=\"0 -960 960 960\">\n",
              "    <path d=\"M120-120v-720h720v720H120Zm60-500h600v-160H180v160Zm220 220h160v-160H400v160Zm0 220h160v-160H400v160ZM180-400h160v-160H180v160Zm440 0h160v-160H620v160ZM180-180h160v-160H180v160Zm440 0h160v-160H620v160Z\"/>\n",
              "  </svg>\n",
              "    </button>\n",
              "\n",
              "  <style>\n",
              "    .colab-df-container {\n",
              "      display:flex;\n",
              "      gap: 12px;\n",
              "    }\n",
              "\n",
              "    .colab-df-convert {\n",
              "      background-color: #E8F0FE;\n",
              "      border: none;\n",
              "      border-radius: 50%;\n",
              "      cursor: pointer;\n",
              "      display: none;\n",
              "      fill: #1967D2;\n",
              "      height: 32px;\n",
              "      padding: 0 0 0 0;\n",
              "      width: 32px;\n",
              "    }\n",
              "\n",
              "    .colab-df-convert:hover {\n",
              "      background-color: #E2EBFA;\n",
              "      box-shadow: 0px 1px 2px rgba(60, 64, 67, 0.3), 0px 1px 3px 1px rgba(60, 64, 67, 0.15);\n",
              "      fill: #174EA6;\n",
              "    }\n",
              "\n",
              "    .colab-df-buttons div {\n",
              "      margin-bottom: 4px;\n",
              "    }\n",
              "\n",
              "    [theme=dark] .colab-df-convert {\n",
              "      background-color: #3B4455;\n",
              "      fill: #D2E3FC;\n",
              "    }\n",
              "\n",
              "    [theme=dark] .colab-df-convert:hover {\n",
              "      background-color: #434B5C;\n",
              "      box-shadow: 0px 1px 3px 1px rgba(0, 0, 0, 0.15);\n",
              "      filter: drop-shadow(0px 1px 2px rgba(0, 0, 0, 0.3));\n",
              "      fill: #FFFFFF;\n",
              "    }\n",
              "  </style>\n",
              "\n",
              "    <script>\n",
              "      const buttonEl =\n",
              "        document.querySelector('#df-2f5c8be3-b78b-4631-ad37-e57772118f27 button.colab-df-convert');\n",
              "      buttonEl.style.display =\n",
              "        google.colab.kernel.accessAllowed ? 'block' : 'none';\n",
              "\n",
              "      async function convertToInteractive(key) {\n",
              "        const element = document.querySelector('#df-2f5c8be3-b78b-4631-ad37-e57772118f27');\n",
              "        const dataTable =\n",
              "          await google.colab.kernel.invokeFunction('convertToInteractive',\n",
              "                                                    [key], {});\n",
              "        if (!dataTable) return;\n",
              "\n",
              "        const docLinkHtml = 'Like what you see? Visit the ' +\n",
              "          '<a target=\"_blank\" href=https://colab.research.google.com/notebooks/data_table.ipynb>data table notebook</a>'\n",
              "          + ' to learn more about interactive tables.';\n",
              "        element.innerHTML = '';\n",
              "        dataTable['output_type'] = 'display_data';\n",
              "        await google.colab.output.renderOutput(dataTable, element);\n",
              "        const docLink = document.createElement('div');\n",
              "        docLink.innerHTML = docLinkHtml;\n",
              "        element.appendChild(docLink);\n",
              "      }\n",
              "    </script>\n",
              "  </div>\n",
              "\n",
              "\n",
              "    <div id=\"df-78499c2a-fb11-452e-b212-22b0401841e4\">\n",
              "      <button class=\"colab-df-quickchart\" onclick=\"quickchart('df-78499c2a-fb11-452e-b212-22b0401841e4')\"\n",
              "                title=\"Suggest charts\"\n",
              "                style=\"display:none;\">\n",
              "\n",
              "<svg xmlns=\"http://www.w3.org/2000/svg\" height=\"24px\"viewBox=\"0 0 24 24\"\n",
              "     width=\"24px\">\n",
              "    <g>\n",
              "        <path d=\"M19 3H5c-1.1 0-2 .9-2 2v14c0 1.1.9 2 2 2h14c1.1 0 2-.9 2-2V5c0-1.1-.9-2-2-2zM9 17H7v-7h2v7zm4 0h-2V7h2v10zm4 0h-2v-4h2v4z\"/>\n",
              "    </g>\n",
              "</svg>\n",
              "      </button>\n",
              "\n",
              "<style>\n",
              "  .colab-df-quickchart {\n",
              "      --bg-color: #E8F0FE;\n",
              "      --fill-color: #1967D2;\n",
              "      --hover-bg-color: #E2EBFA;\n",
              "      --hover-fill-color: #174EA6;\n",
              "      --disabled-fill-color: #AAA;\n",
              "      --disabled-bg-color: #DDD;\n",
              "  }\n",
              "\n",
              "  [theme=dark] .colab-df-quickchart {\n",
              "      --bg-color: #3B4455;\n",
              "      --fill-color: #D2E3FC;\n",
              "      --hover-bg-color: #434B5C;\n",
              "      --hover-fill-color: #FFFFFF;\n",
              "      --disabled-bg-color: #3B4455;\n",
              "      --disabled-fill-color: #666;\n",
              "  }\n",
              "\n",
              "  .colab-df-quickchart {\n",
              "    background-color: var(--bg-color);\n",
              "    border: none;\n",
              "    border-radius: 50%;\n",
              "    cursor: pointer;\n",
              "    display: none;\n",
              "    fill: var(--fill-color);\n",
              "    height: 32px;\n",
              "    padding: 0;\n",
              "    width: 32px;\n",
              "  }\n",
              "\n",
              "  .colab-df-quickchart:hover {\n",
              "    background-color: var(--hover-bg-color);\n",
              "    box-shadow: 0 1px 2px rgba(60, 64, 67, 0.3), 0 1px 3px 1px rgba(60, 64, 67, 0.15);\n",
              "    fill: var(--button-hover-fill-color);\n",
              "  }\n",
              "\n",
              "  .colab-df-quickchart-complete:disabled,\n",
              "  .colab-df-quickchart-complete:disabled:hover {\n",
              "    background-color: var(--disabled-bg-color);\n",
              "    fill: var(--disabled-fill-color);\n",
              "    box-shadow: none;\n",
              "  }\n",
              "\n",
              "  .colab-df-spinner {\n",
              "    border: 2px solid var(--fill-color);\n",
              "    border-color: transparent;\n",
              "    border-bottom-color: var(--fill-color);\n",
              "    animation:\n",
              "      spin 1s steps(1) infinite;\n",
              "  }\n",
              "\n",
              "  @keyframes spin {\n",
              "    0% {\n",
              "      border-color: transparent;\n",
              "      border-bottom-color: var(--fill-color);\n",
              "      border-left-color: var(--fill-color);\n",
              "    }\n",
              "    20% {\n",
              "      border-color: transparent;\n",
              "      border-left-color: var(--fill-color);\n",
              "      border-top-color: var(--fill-color);\n",
              "    }\n",
              "    30% {\n",
              "      border-color: transparent;\n",
              "      border-left-color: var(--fill-color);\n",
              "      border-top-color: var(--fill-color);\n",
              "      border-right-color: var(--fill-color);\n",
              "    }\n",
              "    40% {\n",
              "      border-color: transparent;\n",
              "      border-right-color: var(--fill-color);\n",
              "      border-top-color: var(--fill-color);\n",
              "    }\n",
              "    60% {\n",
              "      border-color: transparent;\n",
              "      border-right-color: var(--fill-color);\n",
              "    }\n",
              "    80% {\n",
              "      border-color: transparent;\n",
              "      border-right-color: var(--fill-color);\n",
              "      border-bottom-color: var(--fill-color);\n",
              "    }\n",
              "    90% {\n",
              "      border-color: transparent;\n",
              "      border-bottom-color: var(--fill-color);\n",
              "    }\n",
              "  }\n",
              "</style>\n",
              "\n",
              "      <script>\n",
              "        async function quickchart(key) {\n",
              "          const quickchartButtonEl =\n",
              "            document.querySelector('#' + key + ' button');\n",
              "          quickchartButtonEl.disabled = true;  // To prevent multiple clicks.\n",
              "          quickchartButtonEl.classList.add('colab-df-spinner');\n",
              "          try {\n",
              "            const charts = await google.colab.kernel.invokeFunction(\n",
              "                'suggestCharts', [key], {});\n",
              "          } catch (error) {\n",
              "            console.error('Error during call to suggestCharts:', error);\n",
              "          }\n",
              "          quickchartButtonEl.classList.remove('colab-df-spinner');\n",
              "          quickchartButtonEl.classList.add('colab-df-quickchart-complete');\n",
              "        }\n",
              "        (() => {\n",
              "          let quickchartButtonEl =\n",
              "            document.querySelector('#df-78499c2a-fb11-452e-b212-22b0401841e4 button');\n",
              "          quickchartButtonEl.style.display =\n",
              "            google.colab.kernel.accessAllowed ? 'block' : 'none';\n",
              "        })();\n",
              "      </script>\n",
              "    </div>\n",
              "\n",
              "    </div>\n",
              "  </div>\n"
            ],
            "application/vnd.google.colaboratory.intrinsic+json": {
              "type": "dataframe",
              "variable_name": "df",
              "summary": "{\n  \"name\": \"df\",\n  \"rows\": 200,\n  \"fields\": [\n    {\n      \"column\": \"student_id\",\n      \"properties\": {\n        \"dtype\": \"string\",\n        \"num_unique_values\": 200,\n        \"samples\": [\n          \"S096\",\n          \"S016\",\n          \"S031\"\n        ],\n        \"semantic_type\": \"\",\n        \"description\": \"\"\n      }\n    },\n    {\n      \"column\": \"hours_studied\",\n      \"properties\": {\n        \"dtype\": \"number\",\n        \"std\": 3.2273174058637246,\n        \"min\": 1.0,\n        \"max\": 12.0,\n        \"num_unique_values\": 96,\n        \"samples\": [\n          4.4,\n          1.2,\n          9.4\n        ],\n        \"semantic_type\": \"\",\n        \"description\": \"\"\n      }\n    },\n    {\n      \"column\": \"sleep_hours\",\n      \"properties\": {\n        \"dtype\": \"number\",\n        \"std\": 1.497138308767059,\n        \"min\": 4.0,\n        \"max\": 9.0,\n        \"num_unique_values\": 50,\n        \"samples\": [\n          6.1,\n          7.3,\n          7.1\n        ],\n        \"semantic_type\": \"\",\n        \"description\": \"\"\n      }\n    },\n    {\n      \"column\": \"attendance_percent\",\n      \"properties\": {\n        \"dtype\": \"number\",\n        \"std\": 14.249905227578703,\n        \"min\": 50.3,\n        \"max\": 100.0,\n        \"num_unique_values\": 167,\n        \"samples\": [\n          66.3,\n          67.5,\n          87.7\n        ],\n        \"semantic_type\": \"\",\n        \"description\": \"\"\n      }\n    },\n    {\n      \"column\": \"previous_scores\",\n      \"properties\": {\n        \"dtype\": \"number\",\n        \"std\": 15,\n        \"min\": 40,\n        \"max\": 95,\n        \"num_unique_values\": 54,\n        \"samples\": [\n          77,\n          91,\n          49\n        ],\n        \"semantic_type\": \"\",\n        \"description\": \"\"\n      }\n    },\n    {\n      \"column\": \"exam_score\",\n      \"properties\": {\n        \"dtype\": \"number\",\n        \"std\": 6.789548204712934,\n        \"min\": 17.1,\n        \"max\": 51.3,\n        \"num_unique_values\": 139,\n        \"samples\": [\n          33.8,\n          47.9,\n          38.1\n        ],\n        \"semantic_type\": \"\",\n        \"description\": \"\"\n      }\n    }\n  ]\n}"
            }
          },
          "metadata": {},
          "execution_count": 2
        }
      ],
      "source": [
        "df = pd.read_csv('/content/student_exam_scores.csv')\n",
        "df.head()"
      ]
    },
    {
      "cell_type": "code",
      "execution_count": 3,
      "id": "32f67e88",
      "metadata": {
        "execution": {
          "iopub.execute_input": "2025-10-05T08:06:56.420092Z",
          "iopub.status.busy": "2025-10-05T08:06:56.419793Z",
          "iopub.status.idle": "2025-10-05T08:06:56.425139Z",
          "shell.execute_reply": "2025-10-05T08:06:56.424453Z"
        },
        "papermill": {
          "duration": 0.011347,
          "end_time": "2025-10-05T08:06:56.426444",
          "exception": false,
          "start_time": "2025-10-05T08:06:56.415097",
          "status": "completed"
        },
        "tags": [],
        "colab": {
          "base_uri": "https://localhost:8080/"
        },
        "id": "32f67e88",
        "outputId": "cc574af4-fa88-4d24-b397-1d78e7955b77"
      },
      "outputs": [
        {
          "output_type": "execute_result",
          "data": {
            "text/plain": [
              "(200, 6)"
            ]
          },
          "metadata": {},
          "execution_count": 3
        }
      ],
      "source": [
        "df.shape"
      ]
    },
    {
      "cell_type": "code",
      "execution_count": 4,
      "id": "4a132efd",
      "metadata": {
        "execution": {
          "iopub.execute_input": "2025-10-05T08:06:56.435522Z",
          "iopub.status.busy": "2025-10-05T08:06:56.435183Z",
          "iopub.status.idle": "2025-10-05T08:06:56.458163Z",
          "shell.execute_reply": "2025-10-05T08:06:56.457161Z"
        },
        "papermill": {
          "duration": 0.029066,
          "end_time": "2025-10-05T08:06:56.459499",
          "exception": false,
          "start_time": "2025-10-05T08:06:56.430433",
          "status": "completed"
        },
        "tags": [],
        "colab": {
          "base_uri": "https://localhost:8080/"
        },
        "id": "4a132efd",
        "outputId": "ba09b7fe-e450-455f-db7a-7f7a7db4feda"
      },
      "outputs": [
        {
          "output_type": "stream",
          "name": "stdout",
          "text": [
            "<class 'pandas.core.frame.DataFrame'>\n",
            "RangeIndex: 200 entries, 0 to 199\n",
            "Data columns (total 6 columns):\n",
            " #   Column              Non-Null Count  Dtype  \n",
            "---  ------              --------------  -----  \n",
            " 0   student_id          200 non-null    object \n",
            " 1   hours_studied       200 non-null    float64\n",
            " 2   sleep_hours         200 non-null    float64\n",
            " 3   attendance_percent  200 non-null    float64\n",
            " 4   previous_scores     200 non-null    int64  \n",
            " 5   exam_score          200 non-null    float64\n",
            "dtypes: float64(4), int64(1), object(1)\n",
            "memory usage: 9.5+ KB\n"
          ]
        }
      ],
      "source": [
        "df.info()"
      ]
    },
    {
      "cell_type": "code",
      "execution_count": 5,
      "id": "e9aa5a66",
      "metadata": {
        "execution": {
          "iopub.execute_input": "2025-10-05T08:06:56.468936Z",
          "iopub.status.busy": "2025-10-05T08:06:56.468189Z",
          "iopub.status.idle": "2025-10-05T08:06:56.495979Z",
          "shell.execute_reply": "2025-10-05T08:06:56.495082Z"
        },
        "papermill": {
          "duration": 0.034231,
          "end_time": "2025-10-05T08:06:56.497707",
          "exception": false,
          "start_time": "2025-10-05T08:06:56.463476",
          "status": "completed"
        },
        "tags": [],
        "colab": {
          "base_uri": "https://localhost:8080/",
          "height": 300
        },
        "id": "e9aa5a66",
        "outputId": "773573a2-df55-4a67-bfc2-d8951533673e"
      },
      "outputs": [
        {
          "output_type": "execute_result",
          "data": {
            "text/plain": [
              "       hours_studied  sleep_hours  attendance_percent  previous_scores  \\\n",
              "count     200.000000   200.000000          200.000000       200.000000   \n",
              "mean        6.325500     6.622000           74.830000        66.800000   \n",
              "std         3.227317     1.497138           14.249905        15.663869   \n",
              "min         1.000000     4.000000           50.300000        40.000000   \n",
              "25%         3.500000     5.300000           62.200000        54.000000   \n",
              "50%         6.150000     6.700000           75.250000        67.500000   \n",
              "75%         9.000000     8.025000           87.425000        80.000000   \n",
              "max        12.000000     9.000000          100.000000        95.000000   \n",
              "\n",
              "       exam_score  \n",
              "count  200.000000  \n",
              "mean    33.955000  \n",
              "std      6.789548  \n",
              "min     17.100000  \n",
              "25%     29.500000  \n",
              "50%     34.050000  \n",
              "75%     38.750000  \n",
              "max     51.300000  "
            ],
            "text/html": [
              "\n",
              "  <div id=\"df-19aa5627-28b8-4ffd-a462-df859b83dfa8\" class=\"colab-df-container\">\n",
              "    <div>\n",
              "<style scoped>\n",
              "    .dataframe tbody tr th:only-of-type {\n",
              "        vertical-align: middle;\n",
              "    }\n",
              "\n",
              "    .dataframe tbody tr th {\n",
              "        vertical-align: top;\n",
              "    }\n",
              "\n",
              "    .dataframe thead th {\n",
              "        text-align: right;\n",
              "    }\n",
              "</style>\n",
              "<table border=\"1\" class=\"dataframe\">\n",
              "  <thead>\n",
              "    <tr style=\"text-align: right;\">\n",
              "      <th></th>\n",
              "      <th>hours_studied</th>\n",
              "      <th>sleep_hours</th>\n",
              "      <th>attendance_percent</th>\n",
              "      <th>previous_scores</th>\n",
              "      <th>exam_score</th>\n",
              "    </tr>\n",
              "  </thead>\n",
              "  <tbody>\n",
              "    <tr>\n",
              "      <th>count</th>\n",
              "      <td>200.000000</td>\n",
              "      <td>200.000000</td>\n",
              "      <td>200.000000</td>\n",
              "      <td>200.000000</td>\n",
              "      <td>200.000000</td>\n",
              "    </tr>\n",
              "    <tr>\n",
              "      <th>mean</th>\n",
              "      <td>6.325500</td>\n",
              "      <td>6.622000</td>\n",
              "      <td>74.830000</td>\n",
              "      <td>66.800000</td>\n",
              "      <td>33.955000</td>\n",
              "    </tr>\n",
              "    <tr>\n",
              "      <th>std</th>\n",
              "      <td>3.227317</td>\n",
              "      <td>1.497138</td>\n",
              "      <td>14.249905</td>\n",
              "      <td>15.663869</td>\n",
              "      <td>6.789548</td>\n",
              "    </tr>\n",
              "    <tr>\n",
              "      <th>min</th>\n",
              "      <td>1.000000</td>\n",
              "      <td>4.000000</td>\n",
              "      <td>50.300000</td>\n",
              "      <td>40.000000</td>\n",
              "      <td>17.100000</td>\n",
              "    </tr>\n",
              "    <tr>\n",
              "      <th>25%</th>\n",
              "      <td>3.500000</td>\n",
              "      <td>5.300000</td>\n",
              "      <td>62.200000</td>\n",
              "      <td>54.000000</td>\n",
              "      <td>29.500000</td>\n",
              "    </tr>\n",
              "    <tr>\n",
              "      <th>50%</th>\n",
              "      <td>6.150000</td>\n",
              "      <td>6.700000</td>\n",
              "      <td>75.250000</td>\n",
              "      <td>67.500000</td>\n",
              "      <td>34.050000</td>\n",
              "    </tr>\n",
              "    <tr>\n",
              "      <th>75%</th>\n",
              "      <td>9.000000</td>\n",
              "      <td>8.025000</td>\n",
              "      <td>87.425000</td>\n",
              "      <td>80.000000</td>\n",
              "      <td>38.750000</td>\n",
              "    </tr>\n",
              "    <tr>\n",
              "      <th>max</th>\n",
              "      <td>12.000000</td>\n",
              "      <td>9.000000</td>\n",
              "      <td>100.000000</td>\n",
              "      <td>95.000000</td>\n",
              "      <td>51.300000</td>\n",
              "    </tr>\n",
              "  </tbody>\n",
              "</table>\n",
              "</div>\n",
              "    <div class=\"colab-df-buttons\">\n",
              "\n",
              "  <div class=\"colab-df-container\">\n",
              "    <button class=\"colab-df-convert\" onclick=\"convertToInteractive('df-19aa5627-28b8-4ffd-a462-df859b83dfa8')\"\n",
              "            title=\"Convert this dataframe to an interactive table.\"\n",
              "            style=\"display:none;\">\n",
              "\n",
              "  <svg xmlns=\"http://www.w3.org/2000/svg\" height=\"24px\" viewBox=\"0 -960 960 960\">\n",
              "    <path d=\"M120-120v-720h720v720H120Zm60-500h600v-160H180v160Zm220 220h160v-160H400v160Zm0 220h160v-160H400v160ZM180-400h160v-160H180v160Zm440 0h160v-160H620v160ZM180-180h160v-160H180v160Zm440 0h160v-160H620v160Z\"/>\n",
              "  </svg>\n",
              "    </button>\n",
              "\n",
              "  <style>\n",
              "    .colab-df-container {\n",
              "      display:flex;\n",
              "      gap: 12px;\n",
              "    }\n",
              "\n",
              "    .colab-df-convert {\n",
              "      background-color: #E8F0FE;\n",
              "      border: none;\n",
              "      border-radius: 50%;\n",
              "      cursor: pointer;\n",
              "      display: none;\n",
              "      fill: #1967D2;\n",
              "      height: 32px;\n",
              "      padding: 0 0 0 0;\n",
              "      width: 32px;\n",
              "    }\n",
              "\n",
              "    .colab-df-convert:hover {\n",
              "      background-color: #E2EBFA;\n",
              "      box-shadow: 0px 1px 2px rgba(60, 64, 67, 0.3), 0px 1px 3px 1px rgba(60, 64, 67, 0.15);\n",
              "      fill: #174EA6;\n",
              "    }\n",
              "\n",
              "    .colab-df-buttons div {\n",
              "      margin-bottom: 4px;\n",
              "    }\n",
              "\n",
              "    [theme=dark] .colab-df-convert {\n",
              "      background-color: #3B4455;\n",
              "      fill: #D2E3FC;\n",
              "    }\n",
              "\n",
              "    [theme=dark] .colab-df-convert:hover {\n",
              "      background-color: #434B5C;\n",
              "      box-shadow: 0px 1px 3px 1px rgba(0, 0, 0, 0.15);\n",
              "      filter: drop-shadow(0px 1px 2px rgba(0, 0, 0, 0.3));\n",
              "      fill: #FFFFFF;\n",
              "    }\n",
              "  </style>\n",
              "\n",
              "    <script>\n",
              "      const buttonEl =\n",
              "        document.querySelector('#df-19aa5627-28b8-4ffd-a462-df859b83dfa8 button.colab-df-convert');\n",
              "      buttonEl.style.display =\n",
              "        google.colab.kernel.accessAllowed ? 'block' : 'none';\n",
              "\n",
              "      async function convertToInteractive(key) {\n",
              "        const element = document.querySelector('#df-19aa5627-28b8-4ffd-a462-df859b83dfa8');\n",
              "        const dataTable =\n",
              "          await google.colab.kernel.invokeFunction('convertToInteractive',\n",
              "                                                    [key], {});\n",
              "        if (!dataTable) return;\n",
              "\n",
              "        const docLinkHtml = 'Like what you see? Visit the ' +\n",
              "          '<a target=\"_blank\" href=https://colab.research.google.com/notebooks/data_table.ipynb>data table notebook</a>'\n",
              "          + ' to learn more about interactive tables.';\n",
              "        element.innerHTML = '';\n",
              "        dataTable['output_type'] = 'display_data';\n",
              "        await google.colab.output.renderOutput(dataTable, element);\n",
              "        const docLink = document.createElement('div');\n",
              "        docLink.innerHTML = docLinkHtml;\n",
              "        element.appendChild(docLink);\n",
              "      }\n",
              "    </script>\n",
              "  </div>\n",
              "\n",
              "\n",
              "    <div id=\"df-6411a271-19cb-4130-8f99-05485de6f113\">\n",
              "      <button class=\"colab-df-quickchart\" onclick=\"quickchart('df-6411a271-19cb-4130-8f99-05485de6f113')\"\n",
              "                title=\"Suggest charts\"\n",
              "                style=\"display:none;\">\n",
              "\n",
              "<svg xmlns=\"http://www.w3.org/2000/svg\" height=\"24px\"viewBox=\"0 0 24 24\"\n",
              "     width=\"24px\">\n",
              "    <g>\n",
              "        <path d=\"M19 3H5c-1.1 0-2 .9-2 2v14c0 1.1.9 2 2 2h14c1.1 0 2-.9 2-2V5c0-1.1-.9-2-2-2zM9 17H7v-7h2v7zm4 0h-2V7h2v10zm4 0h-2v-4h2v4z\"/>\n",
              "    </g>\n",
              "</svg>\n",
              "      </button>\n",
              "\n",
              "<style>\n",
              "  .colab-df-quickchart {\n",
              "      --bg-color: #E8F0FE;\n",
              "      --fill-color: #1967D2;\n",
              "      --hover-bg-color: #E2EBFA;\n",
              "      --hover-fill-color: #174EA6;\n",
              "      --disabled-fill-color: #AAA;\n",
              "      --disabled-bg-color: #DDD;\n",
              "  }\n",
              "\n",
              "  [theme=dark] .colab-df-quickchart {\n",
              "      --bg-color: #3B4455;\n",
              "      --fill-color: #D2E3FC;\n",
              "      --hover-bg-color: #434B5C;\n",
              "      --hover-fill-color: #FFFFFF;\n",
              "      --disabled-bg-color: #3B4455;\n",
              "      --disabled-fill-color: #666;\n",
              "  }\n",
              "\n",
              "  .colab-df-quickchart {\n",
              "    background-color: var(--bg-color);\n",
              "    border: none;\n",
              "    border-radius: 50%;\n",
              "    cursor: pointer;\n",
              "    display: none;\n",
              "    fill: var(--fill-color);\n",
              "    height: 32px;\n",
              "    padding: 0;\n",
              "    width: 32px;\n",
              "  }\n",
              "\n",
              "  .colab-df-quickchart:hover {\n",
              "    background-color: var(--hover-bg-color);\n",
              "    box-shadow: 0 1px 2px rgba(60, 64, 67, 0.3), 0 1px 3px 1px rgba(60, 64, 67, 0.15);\n",
              "    fill: var(--button-hover-fill-color);\n",
              "  }\n",
              "\n",
              "  .colab-df-quickchart-complete:disabled,\n",
              "  .colab-df-quickchart-complete:disabled:hover {\n",
              "    background-color: var(--disabled-bg-color);\n",
              "    fill: var(--disabled-fill-color);\n",
              "    box-shadow: none;\n",
              "  }\n",
              "\n",
              "  .colab-df-spinner {\n",
              "    border: 2px solid var(--fill-color);\n",
              "    border-color: transparent;\n",
              "    border-bottom-color: var(--fill-color);\n",
              "    animation:\n",
              "      spin 1s steps(1) infinite;\n",
              "  }\n",
              "\n",
              "  @keyframes spin {\n",
              "    0% {\n",
              "      border-color: transparent;\n",
              "      border-bottom-color: var(--fill-color);\n",
              "      border-left-color: var(--fill-color);\n",
              "    }\n",
              "    20% {\n",
              "      border-color: transparent;\n",
              "      border-left-color: var(--fill-color);\n",
              "      border-top-color: var(--fill-color);\n",
              "    }\n",
              "    30% {\n",
              "      border-color: transparent;\n",
              "      border-left-color: var(--fill-color);\n",
              "      border-top-color: var(--fill-color);\n",
              "      border-right-color: var(--fill-color);\n",
              "    }\n",
              "    40% {\n",
              "      border-color: transparent;\n",
              "      border-right-color: var(--fill-color);\n",
              "      border-top-color: var(--fill-color);\n",
              "    }\n",
              "    60% {\n",
              "      border-color: transparent;\n",
              "      border-right-color: var(--fill-color);\n",
              "    }\n",
              "    80% {\n",
              "      border-color: transparent;\n",
              "      border-right-color: var(--fill-color);\n",
              "      border-bottom-color: var(--fill-color);\n",
              "    }\n",
              "    90% {\n",
              "      border-color: transparent;\n",
              "      border-bottom-color: var(--fill-color);\n",
              "    }\n",
              "  }\n",
              "</style>\n",
              "\n",
              "      <script>\n",
              "        async function quickchart(key) {\n",
              "          const quickchartButtonEl =\n",
              "            document.querySelector('#' + key + ' button');\n",
              "          quickchartButtonEl.disabled = true;  // To prevent multiple clicks.\n",
              "          quickchartButtonEl.classList.add('colab-df-spinner');\n",
              "          try {\n",
              "            const charts = await google.colab.kernel.invokeFunction(\n",
              "                'suggestCharts', [key], {});\n",
              "          } catch (error) {\n",
              "            console.error('Error during call to suggestCharts:', error);\n",
              "          }\n",
              "          quickchartButtonEl.classList.remove('colab-df-spinner');\n",
              "          quickchartButtonEl.classList.add('colab-df-quickchart-complete');\n",
              "        }\n",
              "        (() => {\n",
              "          let quickchartButtonEl =\n",
              "            document.querySelector('#df-6411a271-19cb-4130-8f99-05485de6f113 button');\n",
              "          quickchartButtonEl.style.display =\n",
              "            google.colab.kernel.accessAllowed ? 'block' : 'none';\n",
              "        })();\n",
              "      </script>\n",
              "    </div>\n",
              "\n",
              "    </div>\n",
              "  </div>\n"
            ],
            "application/vnd.google.colaboratory.intrinsic+json": {
              "type": "dataframe",
              "summary": "{\n  \"name\": \"df\",\n  \"rows\": 8,\n  \"fields\": [\n    {\n      \"column\": \"hours_studied\",\n      \"properties\": {\n        \"dtype\": \"number\",\n        \"std\": 68.71696623242991,\n        \"min\": 1.0,\n        \"max\": 200.0,\n        \"num_unique_values\": 8,\n        \"samples\": [\n          6.3255,\n          6.15,\n          200.0\n        ],\n        \"semantic_type\": \"\",\n        \"description\": \"\"\n      }\n    },\n    {\n      \"column\": \"sleep_hours\",\n      \"properties\": {\n        \"dtype\": \"number\",\n        \"std\": 68.67278625277042,\n        \"min\": 1.497138308767059,\n        \"max\": 200.0,\n        \"num_unique_values\": 8,\n        \"samples\": [\n          6.621999999999999,\n          6.7,\n          200.0\n        ],\n        \"semantic_type\": \"\",\n        \"description\": \"\"\n      }\n    },\n    {\n      \"column\": \"attendance_percent\",\n      \"properties\": {\n        \"dtype\": \"number\",\n        \"std\": 53.921754732644814,\n        \"min\": 14.249905227578703,\n        \"max\": 200.0,\n        \"num_unique_values\": 8,\n        \"samples\": [\n          74.83,\n          75.25,\n          200.0\n        ],\n        \"semantic_type\": \"\",\n        \"description\": \"\"\n      }\n    },\n    {\n      \"column\": \"previous_scores\",\n      \"properties\": {\n        \"dtype\": \"number\",\n        \"std\": 55.181923713611425,\n        \"min\": 15.663868740499513,\n        \"max\": 200.0,\n        \"num_unique_values\": 8,\n        \"samples\": [\n          66.8,\n          67.5,\n          200.0\n        ],\n        \"semantic_type\": \"\",\n        \"description\": \"\"\n      }\n    },\n    {\n      \"column\": \"exam_score\",\n      \"properties\": {\n        \"dtype\": \"number\",\n        \"std\": 61.52064457086345,\n        \"min\": 6.789548204712934,\n        \"max\": 200.0,\n        \"num_unique_values\": 8,\n        \"samples\": [\n          33.955,\n          34.05,\n          200.0\n        ],\n        \"semantic_type\": \"\",\n        \"description\": \"\"\n      }\n    }\n  ]\n}"
            }
          },
          "metadata": {},
          "execution_count": 5
        }
      ],
      "source": [
        "df.describe()"
      ]
    },
    {
      "cell_type": "code",
      "execution_count": 6,
      "id": "b5415d4e",
      "metadata": {
        "execution": {
          "iopub.execute_input": "2025-10-05T08:06:56.507550Z",
          "iopub.status.busy": "2025-10-05T08:06:56.507213Z",
          "iopub.status.idle": "2025-10-05T08:06:56.513863Z",
          "shell.execute_reply": "2025-10-05T08:06:56.512756Z"
        },
        "papermill": {
          "duration": 0.013412,
          "end_time": "2025-10-05T08:06:56.515465",
          "exception": false,
          "start_time": "2025-10-05T08:06:56.502053",
          "status": "completed"
        },
        "tags": [],
        "colab": {
          "base_uri": "https://localhost:8080/"
        },
        "id": "b5415d4e",
        "outputId": "3440bc1a-ffde-4180-ce86-0a458de90d30"
      },
      "outputs": [
        {
          "output_type": "stream",
          "name": "stdout",
          "text": [
            "No missing values found\n"
          ]
        }
      ],
      "source": [
        "miss_values = df.isnull().sum()\n",
        "\n",
        "if any(miss_values > 0):\n",
        "    print(missing_values[missing_values > 0])\n",
        "else:\n",
        "    print(\"No missing values found\")"
      ]
    },
    {
      "cell_type": "code",
      "execution_count": 7,
      "id": "6d9bea3e",
      "metadata": {
        "execution": {
          "iopub.execute_input": "2025-10-05T08:06:56.525567Z",
          "iopub.status.busy": "2025-10-05T08:06:56.525255Z",
          "iopub.status.idle": "2025-10-05T08:06:56.531708Z",
          "shell.execute_reply": "2025-10-05T08:06:56.530747Z"
        },
        "papermill": {
          "duration": 0.013339,
          "end_time": "2025-10-05T08:06:56.533060",
          "exception": false,
          "start_time": "2025-10-05T08:06:56.519721",
          "status": "completed"
        },
        "tags": [],
        "colab": {
          "base_uri": "https://localhost:8080/"
        },
        "id": "6d9bea3e",
        "outputId": "7849aae4-2a2a-4427-d879-e4e352c41db0"
      },
      "outputs": [
        {
          "output_type": "stream",
          "name": "stdout",
          "text": [
            "Duplicate rows: 0\n"
          ]
        }
      ],
      "source": [
        "duplicates = df.duplicated().sum()\n",
        "print(f\"Duplicate rows: {duplicates}\")"
      ]
    },
    {
      "cell_type": "code",
      "execution_count": 8,
      "id": "7fc3fac9",
      "metadata": {
        "execution": {
          "iopub.execute_input": "2025-10-05T08:06:56.543292Z",
          "iopub.status.busy": "2025-10-05T08:06:56.542613Z",
          "iopub.status.idle": "2025-10-05T08:06:56.548347Z",
          "shell.execute_reply": "2025-10-05T08:06:56.547592Z"
        },
        "papermill": {
          "duration": 0.012039,
          "end_time": "2025-10-05T08:06:56.549619",
          "exception": false,
          "start_time": "2025-10-05T08:06:56.537580",
          "status": "completed"
        },
        "tags": [],
        "colab": {
          "base_uri": "https://localhost:8080/"
        },
        "id": "7fc3fac9",
        "outputId": "9dca4c23-9d42-4df1-fcfa-a846c141e669"
      },
      "outputs": [
        {
          "output_type": "execute_result",
          "data": {
            "text/plain": [
              "Index(['student_id', 'hours_studied', 'sleep_hours', 'attendance_percent',\n",
              "       'previous_scores', 'exam_score'],\n",
              "      dtype='object')"
            ]
          },
          "metadata": {},
          "execution_count": 8
        }
      ],
      "source": [
        "df.columns"
      ]
    },
    {
      "cell_type": "code",
      "execution_count": 9,
      "id": "92675929",
      "metadata": {
        "execution": {
          "iopub.execute_input": "2025-10-05T08:06:56.560837Z",
          "iopub.status.busy": "2025-10-05T08:06:56.560154Z",
          "iopub.status.idle": "2025-10-05T08:06:57.051971Z",
          "shell.execute_reply": "2025-10-05T08:06:57.051078Z"
        },
        "papermill": {
          "duration": 0.498841,
          "end_time": "2025-10-05T08:06:57.053744",
          "exception": false,
          "start_time": "2025-10-05T08:06:56.554903",
          "status": "completed"
        },
        "tags": [],
        "colab": {
          "base_uri": "https://localhost:8080/",
          "height": 546
        },
        "id": "92675929",
        "outputId": "3b8f983d-375a-41bb-fb2a-5426bed68fd9"
      },
      "outputs": [
        {
          "output_type": "display_data",
          "data": {
            "text/plain": [
              "<Figure size 800x400 with 0 Axes>"
            ]
          },
          "metadata": {}
        },
        {
          "output_type": "display_data",
          "data": {
            "text/plain": [
              "<Figure size 500x500 with 1 Axes>"
            ],
            "image/png": "[encoded data removed]"
          },
          "metadata": {}
        }
      ],
      "source": [
        "plt.figure(figsize=(8, 4))\n",
        "sns.displot(df, x='exam_score', kind='kde', fill=True)\n",
        "plt.title(\"Distribution of Exam Score\")\n",
        "plt.show()"
      ]
    },
    {
      "cell_type": "code",
      "execution_count": 10,
      "id": "a2146c65",
      "metadata": {
        "execution": {
          "iopub.execute_input": "2025-10-05T08:06:57.064812Z",
          "iopub.status.busy": "2025-10-05T08:06:57.064525Z",
          "iopub.status.idle": "2025-10-05T08:06:57.347448Z",
          "shell.execute_reply": "2025-10-05T08:06:57.346612Z"
        },
        "papermill": {
          "duration": 0.290777,
          "end_time": "2025-10-05T08:06:57.349361",
          "exception": false,
          "start_time": "2025-10-05T08:06:57.058584",
          "status": "completed"
        },
        "tags": [],
        "colab": {
          "base_uri": "https://localhost:8080/",
          "height": 546
        },
        "id": "a2146c65",
        "outputId": "fec8e294-7518-4f61-d36a-f480ce422fcd"
      },
      "outputs": [
        {
          "output_type": "display_data",
          "data": {
            "text/plain": [
              "<Figure size 800x400 with 0 Axes>"
            ]
          },
          "metadata": {}
        },
        {
          "output_type": "display_data",
          "data": {
            "text/plain": [
              "<Figure size 500x500 with 1 Axes>"
            ],
            "image/png": "[encoded data removed]"
          },
          "metadata": {}
        }
      ],
      "source": [
        "plt.figure(figsize=(8, 4))\n",
        "sns.displot(df, x='previous_scores', kind='kde', fill=True)\n",
        "plt.title(\"Distribution of Exam Score\")\n",
        "plt.show()"
      ]
    },
    {
      "cell_type": "code",
      "execution_count": 11,
      "id": "6be8c2aa",
      "metadata": {
        "execution": {
          "iopub.execute_input": "2025-10-05T08:06:57.362632Z",
          "iopub.status.busy": "2025-10-05T08:06:57.361815Z",
          "iopub.status.idle": "2025-10-05T08:06:57.643488Z",
          "shell.execute_reply": "2025-10-05T08:06:57.642637Z"
        },
        "papermill": {
          "duration": 0.289886,
          "end_time": "2025-10-05T08:06:57.645296",
          "exception": false,
          "start_time": "2025-10-05T08:06:57.355410",
          "status": "completed"
        },
        "tags": [],
        "colab": {
          "base_uri": "https://localhost:8080/",
          "height": 546
        },
        "id": "6be8c2aa",
        "outputId": "7c035667-e074-4806-b983-f23963a30d3f"
      },
      "outputs": [
        {
          "output_type": "display_data",
          "data": {
            "text/plain": [
              "<Figure size 800x400 with 0 Axes>"
            ]
          },
          "metadata": {}
        },
        {
          "output_type": "display_data",
          "data": {
            "text/plain": [
              "<Figure size 500x500 with 1 Axes>"
            ],
            "image/png": "[encoded data removed]"
          },
          "metadata": {}
        }
      ],
      "source": [
        "plt.figure(figsize=(8, 4))\n",
        "sns.displot(df, x='attendance_percent', kind='kde', fill=True)\n",
        "plt.title(\"Distribution of Exam Score\")\n",
        "plt.show()"
      ]
    },
    {
      "cell_type": "code",
      "execution_count": 12,
      "id": "083b39c0",
      "metadata": {
        "execution": {
          "iopub.execute_input": "2025-10-05T08:06:57.660347Z",
          "iopub.status.busy": "2025-10-05T08:06:57.659426Z",
          "iopub.status.idle": "2025-10-05T08:06:57.981921Z",
          "shell.execute_reply": "2025-10-05T08:06:57.980880Z"
        },
        "papermill": {
          "duration": 0.33171,
          "end_time": "2025-10-05T08:06:57.983563",
          "exception": false,
          "start_time": "2025-10-05T08:06:57.651853",
          "status": "completed"
        },
        "tags": [],
        "colab": {
          "base_uri": "https://localhost:8080/",
          "height": 546
        },
        "id": "083b39c0",
        "outputId": "3fbf4458-dc90-4497-d0ea-75e2a2d8e2b1"
      },
      "outputs": [
        {
          "output_type": "display_data",
          "data": {
            "text/plain": [
              "<Figure size 800x400 with 0 Axes>"
            ]
          },
          "metadata": {}
        },
        {
          "output_type": "display_data",
          "data": {
            "text/plain": [
              "<Figure size 500x500 with 1 Axes>"
            ],
            "image/png": "[encoded data removed]"
          },
          "metadata": {}
        }
      ],
      "source": [
        "plt.figure(figsize=(8, 4))\n",
        "sns.displot(df, x='sleep_hours', kind='kde', fill=True)\n",
        "plt.title(\"Distribution of Exam Score\")\n",
        "plt.show()"
      ]
    },
    {
      "cell_type": "code",
      "execution_count": 13,
      "id": "13e023f7",
      "metadata": {
        "execution": {
          "iopub.execute_input": "2025-10-05T08:06:57.999449Z",
          "iopub.status.busy": "2025-10-05T08:06:57.998658Z",
          "iopub.status.idle": "2025-10-05T08:06:58.316042Z",
          "shell.execute_reply": "2025-10-05T08:06:58.315329Z"
        },
        "papermill": {
          "duration": 0.326858,
          "end_time": "2025-10-05T08:06:58.317671",
          "exception": false,
          "start_time": "2025-10-05T08:06:57.990813",
          "status": "completed"
        },
        "tags": [],
        "id": "13e023f7"
      },
      "outputs": [],
      "source": [
        "from sklearn.model_selection import train_test_split\n",
        "from sklearn.pipeline import Pipeline\n",
        "from sklearn.preprocessing import MinMaxScaler\n",
        "from sklearn.metrics import mean_squared_error, r2_score\n",
        "\n",
        "X = df.drop(columns=(['student_id', 'exam_score']))\n",
        "y = df['exam_score']"
      ]
    },
    {
      "cell_type": "code",
      "execution_count": 14,
      "id": "61b50006",
      "metadata": {
        "execution": {
          "iopub.execute_input": "2025-10-05T08:06:58.333601Z",
          "iopub.status.busy": "2025-10-05T08:06:58.332819Z",
          "iopub.status.idle": "2025-10-05T08:06:58.338506Z",
          "shell.execute_reply": "2025-10-05T08:06:58.337578Z"
        },
        "papermill": {
          "duration": 0.015102,
          "end_time": "2025-10-05T08:06:58.339900",
          "exception": false,
          "start_time": "2025-10-05T08:06:58.324798",
          "status": "completed"
        },
        "tags": [],
        "id": "61b50006"
      },
      "outputs": [],
      "source": [
        "class LSM:\n",
        "    def fit(self, X, y):\n",
        "        X = np.insert(X, 0, 1, axis=1)\n",
        "        XT_X_inv = np.linalg.inv(X.T @ X)\n",
        "        weights = np.linalg.multi_dot([XT_X_inv, X.T, y])\n",
        "        self.bias, self.weights = weights[0], weights[1:]\n",
        "\n",
        "    def predict(self, X_test):\n",
        "        return X_test @ self.weights + self.bias"
      ]
    },
    {
      "cell_type": "markdown",
      "id": "6a64b4c7",
      "metadata": {
        "papermill": {
          "duration": 0.006674,
          "end_time": "2025-10-05T08:06:58.353638",
          "exception": false,
          "start_time": "2025-10-05T08:06:58.346964",
          "status": "completed"
        },
        "tags": [],
        "id": "6a64b4c7"
      },
      "source": [
        "$$\\begin{align*}\n",
        "J(w, X, y) &= \\frac{1}{2n} \\sum_{i=1}^{n} (w^T x_i - y_i)^2 = \\frac{1}{2n} \\|Xw - y\\|^2 = \\frac{1}{2n} (Xw - y)^T (Xw - y) \\\\\n",
        "&= \\frac{1}{2n} \\left( (Xw)^T Xw - (Xw)^T y - y^T Xw + y^T y \\right) = \\frac{1}{2n} \\left( w^T X^T X w - 2 y^T X w + y^T y \\right) \\\\\n",
        "\\\\\n",
        "\\frac{\\partial J}{\\partial w} &= 0 \\quad \\Rightarrow \\quad \\frac{1}{2n} (2 X^T X w - 2 X^T y) = 0 \\quad \\Rightarrow \\quad X^T X w = X^T y \\\\\n",
        "&\\Rightarrow \\quad w = (X^T X)^{-1} X^T y\n",
        "\\end{align*}$$"
      ]
    },
    {
      "cell_type": "code",
      "execution_count": 15,
      "id": "d90156a9",
      "metadata": {
        "execution": {
          "iopub.execute_input": "2025-10-05T08:06:58.368720Z",
          "iopub.status.busy": "2025-10-05T08:06:58.368398Z",
          "iopub.status.idle": "2025-10-05T08:06:58.375049Z",
          "shell.execute_reply": "2025-10-05T08:06:58.374260Z"
        },
        "papermill": {
          "duration": 0.016189,
          "end_time": "2025-10-05T08:06:58.376632",
          "exception": false,
          "start_time": "2025-10-05T08:06:58.360443",
          "status": "completed"
        },
        "tags": [],
        "id": "d90156a9"
      },
      "outputs": [],
      "source": [
        "X_train, X_test, y_train, y_test = train_test_split(X, y, random_state=42, test_size=0.3)"
      ]
    },
    {
      "cell_type": "code",
      "execution_count": 16,
      "id": "fa1831a8",
      "metadata": {
        "execution": {
          "iopub.execute_input": "2025-10-05T08:06:58.392596Z",
          "iopub.status.busy": "2025-10-05T08:06:58.392262Z",
          "iopub.status.idle": "2025-10-05T08:06:58.403927Z",
          "shell.execute_reply": "2025-10-05T08:06:58.403175Z"
        },
        "papermill": {
          "duration": 0.021703,
          "end_time": "2025-10-05T08:06:58.405547",
          "exception": false,
          "start_time": "2025-10-05T08:06:58.383844",
          "status": "completed"
        },
        "tags": [],
        "id": "fa1831a8"
      },
      "outputs": [],
      "source": [
        "pipeline = Pipeline([\n",
        "    ('scaler', MinMaxScaler()),\n",
        "    ('model', LSM())\n",
        "])\n",
        "\n",
        "pipeline.fit(X_train, y_train)\n",
        "y_pred = pipeline.predict(X_test)"
      ]
    },
    {
      "cell_type": "code",
      "execution_count": 17,
      "id": "b6973dc6",
      "metadata": {
        "execution": {
          "iopub.execute_input": "2025-10-05T08:06:58.420902Z",
          "iopub.status.busy": "2025-10-05T08:06:58.420367Z",
          "iopub.status.idle": "2025-10-05T08:06:58.425981Z",
          "shell.execute_reply": "2025-10-05T08:06:58.425235Z"
        },
        "papermill": {
          "duration": 0.014858,
          "end_time": "2025-10-05T08:06:58.427380",
          "exception": false,
          "start_time": "2025-10-05T08:06:58.412522",
          "status": "completed"
        },
        "tags": [],
        "id": "b6973dc6"
      },
      "outputs": [],
      "source": [
        "MSE = mean_squared_error(y_test, y_pred)\n",
        "R2 = r2_score(y_test, y_pred) * 100"
      ]
    },
    {
      "cell_type": "code",
      "execution_count": 18,
      "id": "983cb2cf",
      "metadata": {
        "execution": {
          "iopub.execute_input": "2025-10-05T08:06:58.442550Z",
          "iopub.status.busy": "2025-10-05T08:06:58.442225Z",
          "iopub.status.idle": "2025-10-05T08:06:58.447127Z",
          "shell.execute_reply": "2025-10-05T08:06:58.445988Z"
        },
        "papermill": {
          "duration": 0.0143,
          "end_time": "2025-10-05T08:06:58.448653",
          "exception": false,
          "start_time": "2025-10-05T08:06:58.434353",
          "status": "completed"
        },
        "tags": [],
        "colab": {
          "base_uri": "https://localhost:8080/"
        },
        "id": "983cb2cf",
        "outputId": "48044e87-b11a-4c6e-9518-dc4a6f53688f"
      },
      "outputs": [
        {
          "output_type": "stream",
          "name": "stdout",
          "text": [
            "MSE = 8.196816521573838\n",
            "R2 = 84.68235970523799\n"
          ]
        }
      ],
      "source": [
        "print(f\"MSE = {MSE}\")\n",
        "print(f\"R2 = {R2}\")"
      ]
    }
  ],
  "metadata": {
    "kaggle": {
      "accelerator": "none",
      "dataSources": [
        {
          "datasetId": 8349784,
          "sourceId": 13176616,
          "sourceType": "datasetVersion"
        }
      ],
      "dockerImageVersionId": 31089,
      "isGpuEnabled": false,
      "isInternetEnabled": true,
      "language": "python",
      "sourceType": "notebook"
    },
    "kernelspec": {
      "display_name": "Python 3",
      "language": "python",
      "name": "python3"
    },
    "language_info": {
      "codemirror_mode": {
        "name": "ipython",
        "version": 3
      },
      "file_extension": ".py",
      "mimetype": "text/x-python",
      "name": "python",
      "nbconvert_exporter": "python",
      "pygments_lexer": "ipython3",
      "version": "3.11.13"
    },
    "papermill": {
      "default_parameters": {},
      "duration": 11.610055,
      "end_time": "2025-10-05T08:06:59.175927",
      "environment_variables": {},
      "exception": null,
      "input_path": "__notebook__.ipynb",
      "output_path": "__notebook__.ipynb",
      "parameters": {},
      "start_time": "2025-10-05T08:06:47.565872",
      "version": "2.6.0"
    },
    "colab": {
      "provenance": [],
      "include_colab_link": true
    }
  },
  "nbformat": 4,
  "nbformat_minor": 5
}